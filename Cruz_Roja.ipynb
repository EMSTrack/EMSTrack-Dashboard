{
 "cells": [
  {
   "cell_type": "code",
   "execution_count": null,
   "metadata": {
    "id": "MEd7xORGLY5t"
   },
   "outputs": [],
   "source": [
    "import requests\n",
    "import time\n",
    "from datetime import datetime\n",
    "import dateutil.parser\n",
    "import os\n",
    "import yaml\n",
    "\n",
    "import numpy as np\n",
    "import pandas as pd\n",
    "import matplotlib.pyplot as plt\n",
    "import folium\n",
    "from folium import plugins\n",
    "\n"
   ]
  },
  {
   "cell_type": "code",
   "execution_count": null,
   "metadata": {},
   "outputs": [],
   "source": [
    "with open(\"config.yml\", 'r') as ymlfile:\n",
    "    cfg = yaml.safe_load(ymlfile)\n",
    "SERVER = 'UCSD'\n",
    "cfg = cfg[SERVER]"
   ]
  },
  {
   "cell_type": "code",
   "execution_count": null,
   "metadata": {
    "colab": {
     "base_uri": "https://localhost:8080/"
    },
    "id": "NEPkVff-LoJP",
    "outputId": "686502f9-d385-4ed1-b318-97ef07a6b4bd"
   },
   "outputs": [],
   "source": [
    "base_url = cfg['url']\n",
    "\n",
    "def get (url, params=None, extend=True):\n",
    "    global base_url, token\n",
    "    set_token()\n",
    "    if extend == True:\n",
    "        url = base_url + url\n",
    "    headers = {'Content-Type': 'application/json', 'Authorization': f'Token {token}'}\n",
    "\n",
    "    response = requests.get(url, params=params, headers = headers)\n",
    "    response.raise_for_status()\n",
    "    return response\n",
    "\n",
    "def post (url, params=None, extend=True):\n",
    "    global base_url, token\n",
    "    set_token()\n",
    "    if extend == True:\n",
    "        url = base_url + url\n",
    "    headers = {'Content-Type': 'application/json', 'Authorization': f'Token {token}'}\n",
    "\n",
    "    response = requests.post(url, headers = headers, data=params)\n",
    "    response.raise_for_status()\n",
    "    return response\n",
    "\n",
    "\n",
    "def set_token ():\n",
    "    global token\n",
    "    global token_timestamp\n",
    "\n",
    "    try:\n",
    "        token_timestamp\n",
    "    except NameError:\n",
    "        token_timestamp = 0\n",
    "\n",
    "    if token_timestamp == 0:\n",
    "        param = {\n",
    "            'username' : cfg['username'],\n",
    "            'password' : cfg['password']\n",
    "        }\n",
    "        headers = {'Content-Type': 'application/x-www-form-urlencoded'}\n",
    "        url = cfg['authurl']\n",
    "        res = requests.post(url, data=param)\n",
    "        res.raise_for_status()\n",
    "        token_timestamp = time.time()\n",
    "        token = res.json()['token']\n",
    "\n",
    "\n",
    "\n",
    "res = get('ambulance')  \n",
    "\n",
    "# if __name__ == \"__main__\":\n",
    "#   main()"
   ]
  },
  {
   "cell_type": "code",
   "execution_count": null,
   "metadata": {
    "id": "8vmm3Os5NsnO"
   },
   "outputs": [],
   "source": [
    "ambulances = res.json()"
   ]
  },
  {
   "cell_type": "code",
   "execution_count": null,
   "metadata": {
    "id": "Y9G_Q_M7RJNl"
   },
   "outputs": [],
   "source": [
    "vehicles = {}\n",
    "df = pd.DataFrame()\n",
    "for ambulance in ambulances:\n",
    "    id = ambulance['id']\n",
    "    data = get(f'ambulance/{id}/updates/').json()#?filter=2020-10-28T15:00:00.000Z,2020-10-30T15:00:00.000Z').json() \n",
    "    data = [{'id':id, 'identifier':ambulance['identifier'], **item} for item in data]\n",
    "    df = df.append(pd.DataFrame(data))\n",
    "    #print(data) \n",
    "    vehicles[id] = {'ambulance':ambulance, 'data':data}\n",
    " \n",
    "    \n",
    "     #Just doing for one for now\n"
   ]
  },
  {
   "cell_type": "code",
   "execution_count": null,
   "metadata": {
    "id": "dHbMnhupPslR"
   },
   "outputs": [],
   "source": [
    "def splitlotlan(row):\n",
    "    row['lon'] = row['location']['longitude']\n",
    "    row['lat'] = row['location']['latitude']\n",
    "    if row['lat'] == 37.4219983 and row['lon'] == -122.084:\n",
    "        return None\n",
    "    return row\n",
    "  \n",
    "df = df.apply(splitlotlan, axis=1).dropna()"
   ]
  },
  {
   "cell_type": "code",
   "execution_count": null,
   "metadata": {
    "colab": {
     "base_uri": "https://localhost:8080/",
     "height": 771
    },
    "id": "gNstxSq6ZYzh",
    "outputId": "57859d30-ec28-42bc-93ab-0844eb86ed9e"
   },
   "outputs": [],
   "source": [
    "m = folium.Map(\n",
    "    location=list(df[['lat', 'lon']].mean().values.tolist()),\n",
    "    zoom_start=16\n",
    ")\n",
    "m.fit_bounds(\n",
    "    [df[['lat', 'lon']].min().values.tolist(), df[['lat', 'lon']].max().values.tolist()]\n",
    ")\n",
    "# Lon, Lat order.\n",
    "lines = []\n",
    "dat = list(zip(df['lon'],df['lat'],df['timestamp']))\n",
    "for i in range (1, len(dat)):\n",
    "    lines.append({\n",
    "      'coordinates': [\n",
    "            list(dat[i][:2]),\n",
    "            list(dat[i-1][:2]),\n",
    "        ],\n",
    "        'dates': [\n",
    "            dat[i][2],\n",
    "            dat[i-1][2]\n",
    "        ],\n",
    "        'color': 'red'\n",
    "  })\n",
    "features = [\n",
    "    {\n",
    "        'type': 'Feature',\n",
    "        'geometry': {\n",
    "            'type': 'LineString',\n",
    "            'coordinates': line['coordinates'],\n",
    "        },\n",
    "        'properties': {\n",
    "            'times': line['dates'],\n",
    "            'style': {\n",
    "                'color': line['color'],\n",
    "                'weight': line['weight'] if 'weight' in line else 5\n",
    "            }\n",
    "        }\n",
    "    }\n",
    "    for line in lines\n",
    "]\n",
    "\n",
    "plugins.TimestampedGeoJson({\n",
    "    'type': 'FeatureCollection',\n",
    "    'features': features,\n",
    "}, period='PT1M', add_last_point=True).add_to(m)\n",
    "m.save(os.path.join( 'sample.html'))\n",
    "\n",
    "m"
   ]
  },
  {
   "cell_type": "code",
   "execution_count": null,
   "metadata": {},
   "outputs": [],
   "source": [
    "import plotly.graph_objects as go # or plotly.express as px\n",
    " # or any Plotly Express function e.g. px.bar(...)\n",
    "# fig.add_trace( ... )\n",
    "# fig.update_layout( ... )\n",
    "\n",
    "import dash\n",
    "import dash_core_components as dcc\n",
    "import dash_html_components as html\n",
    "\n",
    "import plotly.express as px\n"
   ]
  },
  {
   "cell_type": "code",
   "execution_count": null,
   "metadata": {},
   "outputs": [],
   "source": [
    "\n",
    "fig = px.line_mapbox(df[df['identifier']=='7BST414'], lat=\"lat\", lon=\"lon\", color=\"identifier\", zoom=3, height=500)\n",
    "\n",
    "fig.update_layout(mapbox_style=\"stamen-terrain\", mapbox_zoom=4, mapbox_center_lat = 41,\n",
    "    margin={\"r\":0,\"t\":0,\"l\":0,\"b\":0})\n",
    "\n",
    "fig.show()\n",
    "\n"
   ]
  },
  {
   "cell_type": "code",
   "execution_count": null,
   "metadata": {
    "scrolled": false
   },
   "outputs": [],
   "source": [
    "data = df[df['identifier']=='7BST414']\n",
    "data['timestamp'] = pd.to_datetime(data.timestamp)\n",
    "data = data.sort_values(by='timestamp', ascending=True).reset_index()\n",
    "center = {'lon': data['lon'].mean(), 'lat':data['lat'].mean()}\n",
    "fig = go.Figure()\n",
    "\n",
    "for step in range(2,data.shape[0],5):\n",
    "    fig.add_trace(\n",
    "        go.Scattermapbox(\n",
    "        visible=False,\n",
    "        mode = \"markers+lines\",\n",
    "        lon = data.loc[:step:5,'lon'],\n",
    "        lat = data.loc[:step:5,'lat'],\n",
    "        marker = {'size': 10}))\n",
    "          \n",
    "        \n",
    "\n",
    "        \n",
    "fig.update_layout(\n",
    "    margin ={'l':0,'t':0,'b':0,'r':0},\n",
    "    mapbox = {\n",
    "        'center': center,\n",
    "        'style': \"stamen-terrain\",\n",
    "        'zoom': 8}\n",
    ")\n",
    "\n",
    "fig.data[10].visible = True\n",
    "\n",
    "steps = []\n",
    "for i in range(len(fig.data)):\n",
    "    step = dict(\n",
    "        method=\"update\",\n",
    "        args=[{\"visible\": [False] * len(fig.data)},\n",
    "              {\"title\": \"Slider switched to step: \" + str(i)}],  # layout attribute\n",
    "    )\n",
    "    step[\"args\"][0][\"visible\"][i] = True  # Toggle i'th trace to \"visible\"\n",
    "    steps.append(step)\n",
    "\n",
    "sliders = [dict(\n",
    "    active=10,\n",
    "    currentvalue={\"prefix\": \"Frequency: \"},\n",
    "    pad={\"t\": 50},\n",
    "    steps=steps\n",
    ")]\n",
    "\n",
    "fig.update_layout(\n",
    "    sliders=sliders\n",
    ")\n",
    "\n",
    "fig.show()\n",
    "fig.write_html(\"plotly.html\")\n"
   ]
  },
  {
   "cell_type": "code",
   "execution_count": null,
   "metadata": {},
   "outputs": [],
   "source": []
  },
  {
   "cell_type": "code",
   "execution_count": null,
   "metadata": {},
   "outputs": [],
   "source": []
  }
 ],
 "metadata": {
  "colab": {
   "collapsed_sections": [],
   "name": "Cruz Roja.ipynb",
   "provenance": []
  },
  "kernelspec": {
   "display_name": "Python 3",
   "language": "python",
   "name": "python3"
  },
  "language_info": {
   "codemirror_mode": {
    "name": "ipython",
    "version": 3
   },
   "file_extension": ".py",
   "mimetype": "text/x-python",
   "name": "python",
   "nbconvert_exporter": "python",
   "pygments_lexer": "ipython3",
   "version": "3.6.4"
  }
 },
 "nbformat": 4,
 "nbformat_minor": 1
}
