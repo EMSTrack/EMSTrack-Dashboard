{
 "cells": [
  {
   "cell_type": "code",
   "execution_count": 1,
   "metadata": {
    "id": "MEd7xORGLY5t"
   },
   "outputs": [],
   "source": [
    "import requests\n",
    "import time\n",
    "from datetime import datetime\n",
    "import dateutil.parser\n",
    "import os\n",
    "import yaml\n",
    "\n",
    "import numpy as np\n",
    "import pandas as pd\n",
    "import matplotlib.pyplot as plt\n",
    "import folium\n",
    "from folium import plugins\n",
    "\n"
   ]
  },
  {
   "cell_type": "code",
   "execution_count": 3,
   "metadata": {},
   "outputs": [
    {
     "name": "stdout",
     "output_type": "stream",
     "text": [
      "hellooo\n"
     ]
    }
   ],
   "source": [
    "print(\"hellooo\")"
   ]
  },
  {
   "cell_type": "code",
   "execution_count": 4,
   "metadata": {},
   "outputs": [
    {
     "name": "stdout",
     "output_type": "stream",
     "text": [
      "Requirement already satisfied: dash in c:\\python38\\lib\\site-packages (1.17.0)\n",
      "Requirement already satisfied: Flask>=1.0.2 in c:\\python38\\lib\\site-packages (from dash) (1.1.2)\n",
      "Requirement already satisfied: dash-table==4.11.0 in c:\\python38\\lib\\site-packages (from dash) (4.11.0)\n",
      "Requirement already satisfied: flask-compress in c:\\python38\\lib\\site-packages (from dash) (1.8.0)\n",
      "Requirement already satisfied: dash-core-components==1.13.0 in c:\\python38\\lib\\site-packages (from dash) (1.13.0)\n",
      "Requirement already satisfied: dash-html-components==1.1.1 in c:\\python38\\lib\\site-packages (from dash) (1.1.1)\n",
      "Requirement already satisfied: future in c:\\python38\\lib\\site-packages (from dash) (0.18.2)\n",
      "Requirement already satisfied: dash-renderer==1.8.3 in c:\\python38\\lib\\site-packages (from dash) (1.8.3)\n",
      "Requirement already satisfied: plotly in c:\\python38\\lib\\site-packages (from dash) (4.13.0)\n",
      "Requirement already satisfied: itsdangerous>=0.24 in c:\\python38\\lib\\site-packages (from Flask>=1.0.2->dash) (1.1.0)\n",
      "Requirement already satisfied: click>=5.1 in c:\\python38\\lib\\site-packages (from Flask>=1.0.2->dash) (7.1.2)\n",
      "Requirement already satisfied: Werkzeug>=0.15 in c:\\python38\\lib\\site-packages (from Flask>=1.0.2->dash) (1.0.1)"
     ]
    },
    {
     "name": "stderr",
     "output_type": "stream",
     "text": [
      "Error processing line 1 of c:\\python38\\lib\\site-packages\\matplotlib-3.3.2-py3.8-nspkg.pth:\n",
      "\n",
      "  Traceback (most recent call last):\n",
      "    File \"c:\\python38\\lib\\site.py\", line 169, in addpackage\n",
      "      exec(line)\n",
      "    File \"<string>\", line 1, in <module>\n",
      "    File \"<frozen importlib._bootstrap>\", line 553, in module_from_spec\n",
      "  AttributeError: 'NoneType' object has no attribute 'loader'\n",
      "\n",
      "Remainder of file ignored\n",
      "WARNING: You are using pip version 20.2.4; however, version 20.3.3 is available.\n",
      "You should consider upgrading via the 'c:\\python38\\python.exe -m pip install --upgrade pip' command.\n"
     ]
    },
    {
     "name": "stdout",
     "output_type": "stream",
     "text": [
      "\n",
      "Requirement already satisfied: Jinja2>=2.10.1 in c:\\python38\\lib\\site-packages (from Flask>=1.0.2->dash) (2.11.2)\n",
      "Requirement already satisfied: brotli in c:\\python38\\lib\\site-packages (from flask-compress->dash) (1.0.9)\n",
      "Requirement already satisfied: six in c:\\python38\\lib\\site-packages (from plotly->dash) (1.15.0)\n",
      "Requirement already satisfied: retrying>=1.3.3 in c:\\python38\\lib\\site-packages (from plotly->dash) (1.3.3)\n",
      "Requirement already satisfied: MarkupSafe>=0.23 in c:\\python38\\lib\\site-packages (from Jinja2>=2.10.1->Flask>=1.0.2->dash) (1.1.1)\n"
     ]
    }
   ],
   "source": [
    "# pip install folium\n",
    "# \n",
    "!pip install dash"
   ]
  },
  {
   "cell_type": "code",
   "execution_count": 5,
   "metadata": {},
   "outputs": [],
   "source": [
    "with open(\"config.yml\", 'r') as ymlfile:\n",
    "    cfg = yaml.safe_load(ymlfile)\n",
    "SERVER = 'EMSTrack'\n",
    "cfg = cfg[SERVER]"
   ]
  },
  {
   "cell_type": "code",
   "execution_count": 6,
   "metadata": {},
   "outputs": [
    {
     "name": "stdout",
     "output_type": "stream",
     "text": [
      "hello\n"
     ]
    }
   ],
   "source": [
    "print(\"hello\")"
   ]
  },
  {
   "cell_type": "code",
   "execution_count": 7,
   "metadata": {
    "colab": {
     "base_uri": "https://localhost:8080/"
    },
    "id": "NEPkVff-LoJP",
    "outputId": "686502f9-d385-4ed1-b318-97ef07a6b4bd"
   },
   "outputs": [],
   "source": [
    "base_url = cfg['url']\n",
    "\n",
    "def get (url, params=None, extend=True):\n",
    "    global base_url, token\n",
    "    set_token()\n",
    "    if extend == True:\n",
    "        url = base_url + url\n",
    "    headers = {'Content-Type': 'application/json', 'Authorization': f'Token {token}'}\n",
    "\n",
    "    response = requests.get(url, params=params, headers = headers)\n",
    "    response.raise_for_status()\n",
    "    return response\n",
    "\n",
    "def post (url, params=None, extend=True):\n",
    "    global base_url, token\n",
    "    set_token()\n",
    "    if extend == True:\n",
    "        url = base_url + url\n",
    "    headers = {'Content-Type': 'application/json', 'Authorization': f'Token {token}'}\n",
    "\n",
    "    response = requests.post(url, headers = headers, data=params)\n",
    "    response.raise_for_status()\n",
    "    return response\n",
    "\n",
    "\n",
    "def set_token ():\n",
    "    global token\n",
    "    global token_timestamp\n",
    "\n",
    "    try:\n",
    "        token_timestamp\n",
    "    except NameError:\n",
    "        token_timestamp = 0\n",
    "\n",
    "    if token_timestamp == 0:\n",
    "        param = {\n",
    "            'username' : cfg['username'],\n",
    "            'password' : cfg['password']\n",
    "        }\n",
    "        headers = {'Content-Type': 'application/x-www-form-urlencoded'}\n",
    "        url = cfg['authurl']\n",
    "        res = requests.post(url, data=param)\n",
    "        res.raise_for_status()\n",
    "        token_timestamp = time.time()\n",
    "        token = res.json()['token']\n",
    "\n",
    "\n",
    "\n",
    "res = get('ambulance')  \n",
    "\n",
    "# if __name__ == \"__main__\":\n",
    "#   main()"
   ]
  },
  {
   "cell_type": "code",
   "execution_count": 8,
   "metadata": {
    "id": "8vmm3Os5NsnO"
   },
   "outputs": [],
   "source": [
    "ambulances = res.json()"
   ]
  },
  {
   "cell_type": "code",
   "execution_count": 9,
   "metadata": {
    "id": "Y9G_Q_M7RJNl"
   },
   "outputs": [
    {
     "data": {
      "text/html": [
       "<div>\n",
       "<style scoped>\n",
       "    .dataframe tbody tr th:only-of-type {\n",
       "        vertical-align: middle;\n",
       "    }\n",
       "\n",
       "    .dataframe tbody tr th {\n",
       "        vertical-align: top;\n",
       "    }\n",
       "\n",
       "    .dataframe thead th {\n",
       "        text-align: right;\n",
       "    }\n",
       "</style>\n",
       "<table border=\"1\" class=\"dataframe\">\n",
       "  <thead>\n",
       "    <tr style=\"text-align: right;\">\n",
       "      <th></th>\n",
       "      <th>id</th>\n",
       "      <th>identifier</th>\n",
       "      <th>location</th>\n",
       "      <th>orientation</th>\n",
       "      <th>status</th>\n",
       "      <th>timestamp</th>\n",
       "      <th>updated_by_username</th>\n",
       "      <th>updated_on</th>\n",
       "    </tr>\n",
       "  </thead>\n",
       "  <tbody>\n",
       "    <tr>\n",
       "      <th>0</th>\n",
       "      <td>1</td>\n",
       "      <td>Unidad de Prueba 1</td>\n",
       "      <td>{'latitude': 32.4988403, 'longitude': -116.965...</td>\n",
       "      <td>290.686768</td>\n",
       "      <td>AV</td>\n",
       "      <td>2019-09-23T17:34:34.832000Z</td>\n",
       "      <td>controlmedico1</td>\n",
       "      <td>2019-09-23T17:25:10.554488Z</td>\n",
       "    </tr>\n",
       "    <tr>\n",
       "      <th>1</th>\n",
       "      <td>1</td>\n",
       "      <td>Unidad de Prueba 1</td>\n",
       "      <td>{'latitude': 32.4988403, 'longitude': -116.965...</td>\n",
       "      <td>290.686768</td>\n",
       "      <td>UK</td>\n",
       "      <td>2019-09-23T17:34:34.832000Z</td>\n",
       "      <td>cvera</td>\n",
       "      <td>2019-09-23T19:13:11.263483Z</td>\n",
       "    </tr>\n",
       "    <tr>\n",
       "      <th>2</th>\n",
       "      <td>1</td>\n",
       "      <td>Unidad de Prueba 1</td>\n",
       "      <td>{'latitude': 32.4988403, 'longitude': -116.965...</td>\n",
       "      <td>290.686768</td>\n",
       "      <td>OS</td>\n",
       "      <td>2019-09-23T17:34:34.832000Z</td>\n",
       "      <td>cvera</td>\n",
       "      <td>2019-09-23T18:42:38.847581Z</td>\n",
       "    </tr>\n",
       "    <tr>\n",
       "      <th>3</th>\n",
       "      <td>1</td>\n",
       "      <td>Unidad de Prueba 1</td>\n",
       "      <td>{'latitude': 32.4988403, 'longitude': -116.965...</td>\n",
       "      <td>290.686768</td>\n",
       "      <td>UK</td>\n",
       "      <td>2019-09-23T17:17:03.843000Z</td>\n",
       "      <td>controlmedico1</td>\n",
       "      <td>2019-09-23T17:24:26.339625Z</td>\n",
       "    </tr>\n",
       "    <tr>\n",
       "      <th>4</th>\n",
       "      <td>1</td>\n",
       "      <td>Unidad de Prueba 1</td>\n",
       "      <td>{'latitude': 32.4988403, 'longitude': -116.965...</td>\n",
       "      <td>290.686768</td>\n",
       "      <td>AV</td>\n",
       "      <td>2019-09-23T17:17:03.843000Z</td>\n",
       "      <td>controlmedico1</td>\n",
       "      <td>2019-09-23T17:07:29.258502Z</td>\n",
       "    </tr>\n",
       "    <tr>\n",
       "      <th>5</th>\n",
       "      <td>1</td>\n",
       "      <td>Unidad de Prueba 1</td>\n",
       "      <td>{'latitude': 32.4984842, 'longitude': -116.965...</td>\n",
       "      <td>128.721375</td>\n",
       "      <td>AV</td>\n",
       "      <td>2019-09-23T17:16:42.437000Z</td>\n",
       "      <td>controlmedico1</td>\n",
       "      <td>2019-09-23T17:07:08.000820Z</td>\n",
       "    </tr>\n",
       "    <tr>\n",
       "      <th>6</th>\n",
       "      <td>1</td>\n",
       "      <td>Unidad de Prueba 1</td>\n",
       "      <td>{'latitude': 32.4986846, 'longitude': -116.965...</td>\n",
       "      <td>125.573738</td>\n",
       "      <td>AV</td>\n",
       "      <td>2019-09-23T17:16:31.805000Z</td>\n",
       "      <td>controlmedico1</td>\n",
       "      <td>2019-09-23T17:07:07.995988Z</td>\n",
       "    </tr>\n",
       "    <tr>\n",
       "      <th>7</th>\n",
       "      <td>1</td>\n",
       "      <td>Unidad de Prueba 1</td>\n",
       "      <td>{'latitude': 32.4988805, 'longitude': -116.965...</td>\n",
       "      <td>37.765297</td>\n",
       "      <td>AV</td>\n",
       "      <td>2019-09-23T17:00:14.724000Z</td>\n",
       "      <td>controlmedico1</td>\n",
       "      <td>2019-09-23T16:50:56.527687Z</td>\n",
       "    </tr>\n",
       "    <tr>\n",
       "      <th>8</th>\n",
       "      <td>1</td>\n",
       "      <td>Unidad de Prueba 1</td>\n",
       "      <td>{'latitude': 32.4986064, 'longitude': -116.965...</td>\n",
       "      <td>198.336899</td>\n",
       "      <td>AV</td>\n",
       "      <td>2019-09-23T17:00:09.222000Z</td>\n",
       "      <td>controlmedico1</td>\n",
       "      <td>2019-09-23T16:50:34.791888Z</td>\n",
       "    </tr>\n",
       "    <tr>\n",
       "      <th>9</th>\n",
       "      <td>1</td>\n",
       "      <td>Unidad de Prueba 1</td>\n",
       "      <td>{'latitude': 32.4988925, 'longitude': -116.965...</td>\n",
       "      <td>225.988220</td>\n",
       "      <td>AV</td>\n",
       "      <td>2019-09-23T16:41:12.919000Z</td>\n",
       "      <td>controlmedico1</td>\n",
       "      <td>2019-09-23T16:31:54.458765Z</td>\n",
       "    </tr>\n",
       "    <tr>\n",
       "      <th>10</th>\n",
       "      <td>1</td>\n",
       "      <td>Unidad de Prueba 1</td>\n",
       "      <td>{'latitude': 32.4995749, 'longitude': -116.964...</td>\n",
       "      <td>261.220734</td>\n",
       "      <td>AV</td>\n",
       "      <td>2019-09-23T16:41:07.305000Z</td>\n",
       "      <td>controlmedico1</td>\n",
       "      <td>2019-09-23T16:31:32.764151Z</td>\n",
       "    </tr>\n",
       "    <tr>\n",
       "      <th>11</th>\n",
       "      <td>1</td>\n",
       "      <td>Unidad de Prueba 1</td>\n",
       "      <td>{'latitude': 32.4995749, 'longitude': -116.964...</td>\n",
       "      <td>261.220734</td>\n",
       "      <td>UK</td>\n",
       "      <td>2019-09-23T15:28:56.590000Z</td>\n",
       "      <td>controlmedico1</td>\n",
       "      <td>2019-09-23T15:19:26.230264Z</td>\n",
       "    </tr>\n",
       "    <tr>\n",
       "      <th>12</th>\n",
       "      <td>1</td>\n",
       "      <td>Unidad de Prueba 1</td>\n",
       "      <td>{'latitude': 32.4995749, 'longitude': -116.964...</td>\n",
       "      <td>261.220734</td>\n",
       "      <td>AV</td>\n",
       "      <td>2019-09-23T15:28:56.590000Z</td>\n",
       "      <td>controlmedico1</td>\n",
       "      <td>2019-09-23T15:19:23.172470Z</td>\n",
       "    </tr>\n",
       "    <tr>\n",
       "      <th>13</th>\n",
       "      <td>1</td>\n",
       "      <td>Unidad de Prueba 1</td>\n",
       "      <td>{'latitude': 32.4990653, 'longitude': -116.963...</td>\n",
       "      <td>127.818459</td>\n",
       "      <td>AV</td>\n",
       "      <td>2019-09-23T15:28:46.438000Z</td>\n",
       "      <td>controlmedico1</td>\n",
       "      <td>2019-09-23T15:19:23.169575Z</td>\n",
       "    </tr>\n",
       "    <tr>\n",
       "      <th>14</th>\n",
       "      <td>1</td>\n",
       "      <td>Unidad de Prueba 1</td>\n",
       "      <td>{'latitude': 32.4990653, 'longitude': -116.963...</td>\n",
       "      <td>127.818459</td>\n",
       "      <td>UK</td>\n",
       "      <td>2019-09-23T15:28:45.963000Z</td>\n",
       "      <td>controlmedico1</td>\n",
       "      <td>2019-09-23T15:19:23.168083Z</td>\n",
       "    </tr>\n",
       "    <tr>\n",
       "      <th>15</th>\n",
       "      <td>1</td>\n",
       "      <td>Unidad de Prueba 1</td>\n",
       "      <td>{'latitude': 32.4995878, 'longitude': -116.964...</td>\n",
       "      <td>298.762054</td>\n",
       "      <td>UK</td>\n",
       "      <td>2019-09-23T15:26:51.559000Z</td>\n",
       "      <td>controlmedico1</td>\n",
       "      <td>2019-09-23T15:19:23.165300Z</td>\n",
       "    </tr>\n",
       "  </tbody>\n",
       "</table>\n",
       "</div>"
      ],
      "text/plain": [
       "    id          identifier                                           location  \\\n",
       "0    1  Unidad de Prueba 1  {'latitude': 32.4988403, 'longitude': -116.965...   \n",
       "1    1  Unidad de Prueba 1  {'latitude': 32.4988403, 'longitude': -116.965...   \n",
       "2    1  Unidad de Prueba 1  {'latitude': 32.4988403, 'longitude': -116.965...   \n",
       "3    1  Unidad de Prueba 1  {'latitude': 32.4988403, 'longitude': -116.965...   \n",
       "4    1  Unidad de Prueba 1  {'latitude': 32.4988403, 'longitude': -116.965...   \n",
       "5    1  Unidad de Prueba 1  {'latitude': 32.4984842, 'longitude': -116.965...   \n",
       "6    1  Unidad de Prueba 1  {'latitude': 32.4986846, 'longitude': -116.965...   \n",
       "7    1  Unidad de Prueba 1  {'latitude': 32.4988805, 'longitude': -116.965...   \n",
       "8    1  Unidad de Prueba 1  {'latitude': 32.4986064, 'longitude': -116.965...   \n",
       "9    1  Unidad de Prueba 1  {'latitude': 32.4988925, 'longitude': -116.965...   \n",
       "10   1  Unidad de Prueba 1  {'latitude': 32.4995749, 'longitude': -116.964...   \n",
       "11   1  Unidad de Prueba 1  {'latitude': 32.4995749, 'longitude': -116.964...   \n",
       "12   1  Unidad de Prueba 1  {'latitude': 32.4995749, 'longitude': -116.964...   \n",
       "13   1  Unidad de Prueba 1  {'latitude': 32.4990653, 'longitude': -116.963...   \n",
       "14   1  Unidad de Prueba 1  {'latitude': 32.4990653, 'longitude': -116.963...   \n",
       "15   1  Unidad de Prueba 1  {'latitude': 32.4995878, 'longitude': -116.964...   \n",
       "\n",
       "    orientation status                    timestamp updated_by_username  \\\n",
       "0    290.686768     AV  2019-09-23T17:34:34.832000Z      controlmedico1   \n",
       "1    290.686768     UK  2019-09-23T17:34:34.832000Z               cvera   \n",
       "2    290.686768     OS  2019-09-23T17:34:34.832000Z               cvera   \n",
       "3    290.686768     UK  2019-09-23T17:17:03.843000Z      controlmedico1   \n",
       "4    290.686768     AV  2019-09-23T17:17:03.843000Z      controlmedico1   \n",
       "5    128.721375     AV  2019-09-23T17:16:42.437000Z      controlmedico1   \n",
       "6    125.573738     AV  2019-09-23T17:16:31.805000Z      controlmedico1   \n",
       "7     37.765297     AV  2019-09-23T17:00:14.724000Z      controlmedico1   \n",
       "8    198.336899     AV  2019-09-23T17:00:09.222000Z      controlmedico1   \n",
       "9    225.988220     AV  2019-09-23T16:41:12.919000Z      controlmedico1   \n",
       "10   261.220734     AV  2019-09-23T16:41:07.305000Z      controlmedico1   \n",
       "11   261.220734     UK  2019-09-23T15:28:56.590000Z      controlmedico1   \n",
       "12   261.220734     AV  2019-09-23T15:28:56.590000Z      controlmedico1   \n",
       "13   127.818459     AV  2019-09-23T15:28:46.438000Z      controlmedico1   \n",
       "14   127.818459     UK  2019-09-23T15:28:45.963000Z      controlmedico1   \n",
       "15   298.762054     UK  2019-09-23T15:26:51.559000Z      controlmedico1   \n",
       "\n",
       "                     updated_on  \n",
       "0   2019-09-23T17:25:10.554488Z  \n",
       "1   2019-09-23T19:13:11.263483Z  \n",
       "2   2019-09-23T18:42:38.847581Z  \n",
       "3   2019-09-23T17:24:26.339625Z  \n",
       "4   2019-09-23T17:07:29.258502Z  \n",
       "5   2019-09-23T17:07:08.000820Z  \n",
       "6   2019-09-23T17:07:07.995988Z  \n",
       "7   2019-09-23T16:50:56.527687Z  \n",
       "8   2019-09-23T16:50:34.791888Z  \n",
       "9   2019-09-23T16:31:54.458765Z  \n",
       "10  2019-09-23T16:31:32.764151Z  \n",
       "11  2019-09-23T15:19:26.230264Z  \n",
       "12  2019-09-23T15:19:23.172470Z  \n",
       "13  2019-09-23T15:19:23.169575Z  \n",
       "14  2019-09-23T15:19:23.168083Z  \n",
       "15  2019-09-23T15:19:23.165300Z  "
      ]
     },
     "metadata": {},
     "output_type": "display_data"
    }
   ],
   "source": [
    "vehicles = {}\n",
    "df = pd.DataFrame()\n",
    "\n",
    "# def getTime(start,end): \n",
    "#     print(\"\")\n",
    "\n",
    "\n",
    "for ambulance in ambulances:\n",
    "    id = ambulance['id']\n",
    "    data = get(f'ambulance/{id}/updates/?filter=2019-09-01T15:00:00.000Z,2019-10-30T15:00:00.000Z').json()\n",
    "                    \n",
    "#     data = get(f'ambulance/{id}/updates/').json()#?filter=2020-10-28T15:00:00.000Z,2020-10-30T15:00:00.000Z').json() \n",
    "\n",
    "    data = [{'id':id, 'identifier':ambulance['identifier'], **item} for item in data]\n",
    "    df = df.append(pd.DataFrame(data))\n",
    "    display(df)\n",
    "    #print(data) \n",
    "    vehicles[id] = {'ambulance':ambulance, 'data':data}\n",
    " \n",
    "    \n",
    "     #Just doing for one for now\n"
   ]
  },
  {
   "cell_type": "code",
   "execution_count": 10,
   "metadata": {
    "id": "dHbMnhupPslR"
   },
   "outputs": [],
   "source": [
    "def splitlotlan(row):\n",
    "    row['lon'] = row['location']['longitude']\n",
    "    row['lat'] = row['location']['latitude']\n",
    "    if row['lat'] == 37.4219983 and row['lon'] == -122.084:\n",
    "        return None\n",
    "    return row\n",
    "  \n",
    "df = df.apply(splitlotlan, axis=1).dropna()\n"
   ]
  },
  {
   "cell_type": "code",
   "execution_count": 11,
   "metadata": {
    "colab": {
     "base_uri": "https://localhost:8080/",
     "height": 771
    },
    "id": "gNstxSq6ZYzh",
    "outputId": "57859d30-ec28-42bc-93ab-0844eb86ed9e"
   },
   "outputs": [
    {
     "data": {
      "text/html": [
       "<div style=\"width:100%;\"><div style=\"position:relative;width:100%;height:0;padding-bottom:60%;\"><span style=\"color:#565656\">Make this Notebook Trusted to load map: File -> Trust Notebook</span><iframe src=\"about:blank\" style=\"position:absolute;width:100%;height:100%;left:0;top:0;border:none !important;\" data-html=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 onload=\"this.contentDocument.open();this.contentDocument.write(atob(this.getAttribute('data-html')));this.contentDocument.close();\" allowfullscreen webkitallowfullscreen mozallowfullscreen></iframe></div></div>"
      ],
      "text/plain": [
       "<folium.folium.Map at 0x6447f50>"
      ]
     },
     "execution_count": 11,
     "metadata": {},
     "output_type": "execute_result"
    }
   ],
   "source": [
    "m = folium.Map(\n",
    "    location=list(df[['lat', 'lon']].mean().values.tolist()),\n",
    "    zoom_start=16\n",
    ")\n",
    "m.fit_bounds(\n",
    "    [df[['lat', 'lon']].min().values.tolist(), df[['lat', 'lon']].max().values.tolist()]\n",
    ")\n",
    "# Lon, Lat order.\n",
    "lines = []\n",
    "dat = list(zip(df['lon'],df['lat'],df['timestamp']))\n",
    "for i in range (1, len(dat)):\n",
    "    lines.append({\n",
    "      'coordinates': [\n",
    "            list(dat[i][:2]),\n",
    "            list(dat[i-1][:2]),\n",
    "        ],\n",
    "        'dates': [\n",
    "            dat[i][2],\n",
    "            dat[i-1][2]\n",
    "        ],\n",
    "        'color': 'orange'\n",
    "  })\n",
    "features = [\n",
    "    {\n",
    "        'type': 'Feature',\n",
    "        'geometry': {\n",
    "            'type': 'LineString',\n",
    "            'coordinates': line['coordinates'],\n",
    "        },\n",
    "        'properties': {\n",
    "            'times': line['dates'],\n",
    "            'style': {\n",
    "                'color': line['color'],\n",
    "                'weight': line['weight'] if 'weight' in line else 5\n",
    "            }\n",
    "        }\n",
    "    }\n",
    "    for line in lines\n",
    "]\n",
    "\n",
    "plugins.TimestampedGeoJson({\n",
    "    'type': 'FeatureCollection',\n",
    "    'features': features,\n",
    "}, period='PT1M', add_last_point=True).add_to(m)\n",
    "m.save(os.path.join( 'sample.html'))\n",
    "\n",
    "m"
   ]
  },
  {
   "cell_type": "code",
   "execution_count": 14,
   "metadata": {},
   "outputs": [
    {
     "ename": "ModuleNotFoundError",
     "evalue": "No module named 'dash'",
     "output_type": "error",
     "traceback": [
      "\u001b[1;31m---------------------------------------------------------------------------\u001b[0m",
      "\u001b[1;31mModuleNotFoundError\u001b[0m                       Traceback (most recent call last)",
      "\u001b[1;32m<ipython-input-14-77ed2789733f>\u001b[0m in \u001b[0;36m<module>\u001b[1;34m\u001b[0m\n\u001b[0;32m      4\u001b[0m \u001b[1;31m# fig.update_layout( ... )\u001b[0m\u001b[1;33m\u001b[0m\u001b[1;33m\u001b[0m\u001b[1;33m\u001b[0m\u001b[0m\n\u001b[0;32m      5\u001b[0m \u001b[1;33m\u001b[0m\u001b[0m\n\u001b[1;32m----> 6\u001b[1;33m \u001b[1;32mimport\u001b[0m \u001b[0mdash\u001b[0m\u001b[1;33m\u001b[0m\u001b[1;33m\u001b[0m\u001b[0m\n\u001b[0m\u001b[0;32m      7\u001b[0m \u001b[1;32mimport\u001b[0m \u001b[0mdash_core_components\u001b[0m \u001b[1;32mas\u001b[0m \u001b[0mdcc\u001b[0m\u001b[1;33m\u001b[0m\u001b[1;33m\u001b[0m\u001b[0m\n\u001b[0;32m      8\u001b[0m \u001b[1;32mimport\u001b[0m \u001b[0mdash_html_components\u001b[0m \u001b[1;32mas\u001b[0m \u001b[0mhtml\u001b[0m\u001b[1;33m\u001b[0m\u001b[1;33m\u001b[0m\u001b[0m\n",
      "\u001b[1;31mModuleNotFoundError\u001b[0m: No module named 'dash'"
     ]
    }
   ],
   "source": [
    "import plotly.graph_objects as go # or plotly.express as px\n",
    " # or any Plotly Express function e.g. px.bar(...)\n",
    "# fig.add_trace( ... )\n",
    "# fig.update_layout( ... )\n",
    "\n",
    "import dash\n",
    "import dash_core_components as dcc\n",
    "import dash_html_components as html\n",
    "\n",
    "import plotly.express as px\n"
   ]
  },
  {
   "cell_type": "code",
   "execution_count": 13,
   "metadata": {},
   "outputs": [
    {
     "ename": "NameError",
     "evalue": "name 'px' is not defined",
     "output_type": "error",
     "traceback": [
      "\u001b[1;31m---------------------------------------------------------------------------\u001b[0m",
      "\u001b[1;31mNameError\u001b[0m                                 Traceback (most recent call last)",
      "\u001b[1;32m<ipython-input-13-ee1cd2441d6b>\u001b[0m in \u001b[0;36m<module>\u001b[1;34m\u001b[0m\n\u001b[1;32m----> 1\u001b[1;33m \u001b[0mfig\u001b[0m \u001b[1;33m=\u001b[0m \u001b[0mpx\u001b[0m\u001b[1;33m.\u001b[0m\u001b[0mline_mapbox\u001b[0m\u001b[1;33m(\u001b[0m\u001b[0mdf\u001b[0m\u001b[1;33m[\u001b[0m\u001b[0mdf\u001b[0m\u001b[1;33m[\u001b[0m\u001b[1;34m'identifier'\u001b[0m\u001b[1;33m]\u001b[0m\u001b[1;33m==\u001b[0m\u001b[1;34m'7BST414'\u001b[0m\u001b[1;33m]\u001b[0m\u001b[1;33m,\u001b[0m \u001b[0mlat\u001b[0m\u001b[1;33m=\u001b[0m\u001b[1;34m\"lat\"\u001b[0m\u001b[1;33m,\u001b[0m \u001b[0mlon\u001b[0m\u001b[1;33m=\u001b[0m\u001b[1;34m\"lon\"\u001b[0m\u001b[1;33m,\u001b[0m \u001b[0mcolor\u001b[0m\u001b[1;33m=\u001b[0m\u001b[1;34m\"identifier\"\u001b[0m\u001b[1;33m,\u001b[0m \u001b[0mzoom\u001b[0m\u001b[1;33m=\u001b[0m\u001b[1;36m3\u001b[0m\u001b[1;33m,\u001b[0m \u001b[0mheight\u001b[0m\u001b[1;33m=\u001b[0m\u001b[1;36m500\u001b[0m\u001b[1;33m)\u001b[0m\u001b[1;33m\u001b[0m\u001b[1;33m\u001b[0m\u001b[0m\n\u001b[0m\u001b[0;32m      2\u001b[0m \u001b[1;33m\u001b[0m\u001b[0m\n\u001b[0;32m      3\u001b[0m fig.update_layout(mapbox_style=\"stamen-terrain\", mapbox_zoom=4, mapbox_center_lat = 41,\n\u001b[0;32m      4\u001b[0m     margin={\"r\":0,\"t\":0,\"l\":0,\"b\":0})\n\u001b[0;32m      5\u001b[0m \u001b[1;33m\u001b[0m\u001b[0m\n",
      "\u001b[1;31mNameError\u001b[0m: name 'px' is not defined"
     ]
    }
   ],
   "source": [
    "\n",
    "fig = px.line_mapbox(df[df['identifier']=='7BST414'], lat=\"lat\", lon=\"lon\", color=\"identifier\", zoom=3, height=500)\n",
    "\n",
    "fig.update_layout(mapbox_style=\"stamen-terrain\", mapbox_zoom=4, mapbox_center_lat = 41,\n",
    "    margin={\"r\":0,\"t\":0,\"l\":0,\"b\":0})\n",
    "\n",
    "fig.show()\n",
    "\n"
   ]
  },
  {
   "cell_type": "code",
   "execution_count": null,
   "metadata": {},
   "outputs": [],
   "source": []
  },
  {
   "cell_type": "code",
   "execution_count": 18,
   "metadata": {},
   "outputs": [
    {
     "name": "stdout",
     "output_type": "stream",
     "text": [
      "Requirement already satisfied: plotly in c:\\users\\annem\\documents\\lib\\site-packages (4.13.0)\n",
      "Requirement already satisfied: retrying>=1.3.3 in c:\\users\\annem\\documents\\lib\\site-packages (from plotly) (1.3.3)\n",
      "Requirement already satisfied: six in c:\\users\\annem\\documents\\lib\\site-packages (from plotly) (1.12.0)\n",
      "Note: you may need to restart the kernel to use updated packages.\n"
     ]
    },
    {
     "name": "stderr",
     "output_type": "stream",
     "text": [
      "WARNING: You are using pip version 20.1; however, version 20.3.3 is available.\n",
      "You should consider upgrading via the 'c:\\users\\annem\\documents\\python.exe -m pip install --upgrade pip' command.\n"
     ]
    }
   ],
   "source": [
    "pip install plotly"
   ]
  },
  {
   "cell_type": "code",
   "execution_count": 19,
   "metadata": {},
   "outputs": [
    {
     "ename": "IndexError",
     "evalue": "tuple index out of range",
     "output_type": "error",
     "traceback": [
      "\u001b[1;31m---------------------------------------------------------------------------\u001b[0m",
      "\u001b[1;31mIndexError\u001b[0m                                Traceback (most recent call last)",
      "\u001b[1;32m<ipython-input-19-6a6531461691>\u001b[0m in \u001b[0;36m<module>\u001b[1;34m\u001b[0m\n\u001b[0;32m     25\u001b[0m )\n\u001b[0;32m     26\u001b[0m \u001b[1;33m\u001b[0m\u001b[0m\n\u001b[1;32m---> 27\u001b[1;33m \u001b[0mfig\u001b[0m\u001b[1;33m.\u001b[0m\u001b[0mdata\u001b[0m\u001b[1;33m[\u001b[0m\u001b[1;36m10\u001b[0m\u001b[1;33m]\u001b[0m\u001b[1;33m.\u001b[0m\u001b[0mvisible\u001b[0m \u001b[1;33m=\u001b[0m \u001b[1;32mTrue\u001b[0m\u001b[1;33m\u001b[0m\u001b[1;33m\u001b[0m\u001b[0m\n\u001b[0m\u001b[0;32m     28\u001b[0m \u001b[1;33m\u001b[0m\u001b[0m\n\u001b[0;32m     29\u001b[0m \u001b[0msteps\u001b[0m \u001b[1;33m=\u001b[0m \u001b[1;33m[\u001b[0m\u001b[1;33m]\u001b[0m\u001b[1;33m\u001b[0m\u001b[1;33m\u001b[0m\u001b[0m\n",
      "\u001b[1;31mIndexError\u001b[0m: tuple index out of range"
     ]
    }
   ],
   "source": [
    "data = df\n",
    "data['timestamp'] = pd.to_datetime(data.timestamp)\n",
    "data = data.sort_values(by='timestamp', ascending=True).reset_index()\n",
    "center = {'lon': data['lon'].mean(), 'lat':data['lat'].mean()}\n",
    "fig = go.Figure()\n",
    "\n",
    "for step in range(2,data.shape[0],5):\n",
    "    fig.add_trace(\n",
    "        go.Scattermapbox(\n",
    "        visible=False,\n",
    "        mode = \"markers+lines\",\n",
    "        lon = data.loc[:step:5,'lon'],\n",
    "        lat = data.loc[:step:5,'lat'],\n",
    "        marker = {'size': 10}))\n",
    "          \n",
    "        \n",
    "\n",
    "        \n",
    "fig.update_layout(\n",
    "    margin ={'l':0,'t':0,'b':0,'r':0},\n",
    "    mapbox = {\n",
    "        'center': center,\n",
    "        'style': \"stamen-terrain\",\n",
    "        'zoom': 8}\n",
    ")\n",
    "\n",
    "fig.data[10].visible = True\n",
    "\n",
    "steps = []\n",
    "for i in range(len(fig.data)):\n",
    "    step = dict(\n",
    "        method=\"update\",\n",
    "        args=[{\"visible\": [False] * len(fig.data)},\n",
    "              {\"title\": \"Slider switched to step: \" + str(i)}],  # layout attribute\n",
    "    )\n",
    "    step[\"args\"][0][\"visible\"][i] = True  # Toggle i'th trace to \"visible\"\n",
    "    steps.append(step)\n",
    "\n",
    "sliders = [dict(\n",
    "    active=10,\n",
    "    currentvalue={\"prefix\": \"Frequency: \"},\n",
    "    pad={\"t\": 50},\n",
    "    steps=steps\n",
    ")]\n",
    "\n",
    "fig.update_layout(\n",
    "    sliders=sliders\n",
    ")\n",
    "\n",
    "fig.show()\n",
    "fig.write_html(\"plotly.html\")\n"
   ]
  },
  {
   "cell_type": "code",
   "execution_count": null,
   "metadata": {},
   "outputs": [],
   "source": []
  },
  {
   "cell_type": "code",
   "execution_count": null,
   "metadata": {},
   "outputs": [],
   "source": []
  }
 ],
 "metadata": {
  "colab": {
   "collapsed_sections": [],
   "name": "Cruz Roja.ipynb",
   "provenance": []
  },
  "kernelspec": {
   "display_name": "Python 3",
   "language": "python",
   "name": "python3"
  },
  "language_info": {
   "codemirror_mode": {
    "name": "ipython",
    "version": 3
   },
   "file_extension": ".py",
   "mimetype": "text/x-python",
   "name": "python",
   "nbconvert_exporter": "python",
   "pygments_lexer": "ipython3",
   "version": "3.7.3"
  }
 },
 "nbformat": 4,
 "nbformat_minor": 4
}
